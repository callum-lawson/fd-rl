{
 "cells": [
  {
   "cell_type": "markdown",
   "id": "6094ccbe",
   "metadata": {},
   "source": [
    "# Search algorithms \n",
    "\n",
    "Practice the fundamentals of:\n",
    "* Search algorithms\n",
    "* Graph algorithms\n",
    "* Dynamic programming"
   ]
  },
  {
   "cell_type": "code",
   "execution_count": 21,
   "id": "849d1650",
   "metadata": {},
   "outputs": [],
   "source": [
    "import gymnasium as gym\n",
    "\n",
    "env = gym.make('MiniGrid-Empty-8x8-v0')\n",
    "obs = env.reset()\n",
    "env.render() # TODO: find a way to render the environment\n"
   ]
  }
 ],
 "metadata": {
  "kernelspec": {
   "display_name": "fd-rl",
   "language": "python",
   "name": "python3"
  },
  "language_info": {
   "codemirror_mode": {
    "name": "ipython",
    "version": 3
   },
   "file_extension": ".py",
   "mimetype": "text/x-python",
   "name": "python",
   "nbconvert_exporter": "python",
   "pygments_lexer": "ipython3",
   "version": "3.12.1"
  }
 },
 "nbformat": 4,
 "nbformat_minor": 5
}
