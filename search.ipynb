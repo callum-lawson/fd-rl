{
 "cells": [
  {
   "cell_type": "markdown",
   "id": "6094ccbe",
   "metadata": {},
   "source": [
    "# Search algorithms \n",
    "\n",
    "Practice the fundamentals of:\n",
    "* Search algorithms\n",
    "* Graph algorithms\n",
    "* Dynamic programming"
   ]
  },
  {
   "cell_type": "code",
   "execution_count": 2,
   "id": "74beb0ee",
   "metadata": {},
   "outputs": [],
   "source": [
    "# Import libraries\n",
    "from typing import Optional"
   ]
  },
  {
   "cell_type": "markdown",
   "id": "b737c67e",
   "metadata": {},
   "source": [
    "## Linked lists"
   ]
  },
  {
   "cell_type": "code",
   "execution_count": null,
   "id": "0bc16b42",
   "metadata": {},
   "outputs": [],
   "source": [
    "# Linked list\n",
    "def get_sum(head):\n",
    "    ans = 0\n",
    "    while head:\n",
    "        ans += head.val\n",
    "        head = head.next\n",
    "    \n",
    "    return ans"
   ]
  },
  {
   "cell_type": "markdown",
   "id": "ac21bc4a",
   "metadata": {},
   "source": [
    "## Binary Trees"
   ]
  },
  {
   "cell_type": "code",
   "execution_count": 7,
   "id": "f0e585f1",
   "metadata": {},
   "outputs": [
    {
     "name": "stdout",
     "output_type": "stream",
     "text": [
      "Maximum Depth of the Tree: 4\n"
     ]
    }
   ],
   "source": [
    "class TreeNode:\n",
    "    def __init__(self, val=0, left=None, right=None):\n",
    "        self.val = val\n",
    "        self.left = left\n",
    "        self.right = right\n",
    "        \n",
    "class Solution:\n",
    "    \"\"\"\n",
    "    This class provides solutions for various problems related to binary trees.\n",
    "    \"\"\"\n",
    "    \n",
    "    def maxDepth(self, root: Optional[TreeNode]) -> int:\n",
    "        \"\"\"\n",
    "        Returns the maximum depth of a binary tree.\n",
    "        \n",
    "        Args:\n",
    "            root: The root node of the binary tree.\n",
    "        \n",
    "        Returns:\n",
    "            int: The maximum depth of the binary tree.\n",
    "        \"\"\"\n",
    "        if not root:\n",
    "            return 0\n",
    "        \n",
    "        left = self.maxDepth(root.left)\n",
    "        right = self.maxDepth(root.right)\n",
    "        return max(left, right) + 1\n",
    "    \n",
    "    def hasPathSum(self, root: Optional[TreeNode], targetSum: int) -> bool:\n",
    "        \"\"\"\n",
    "        Determines if there exists a path from the root to a leaf in the binary tree\n",
    "        such that the sum of the nodes on the path is equal to the target sum.\n",
    "        \n",
    "        Args:\n",
    "            root: The root node of the binary tree.\n",
    "            targetSum: The target sum to be achieved.\n",
    "        \n",
    "        Returns:\n",
    "            bool: True if there exists a path with the target sum, False otherwise.\n",
    "        \"\"\"\n",
    "        def dfs(node, curr):\n",
    "            if not node:\n",
    "                return False\n",
    "            \n",
    "            if node.left is None and node.right is None:\n",
    "                return (curr + node.val) == targetSum\n",
    "            \n",
    "            curr += node.val\n",
    "            left = dfs(node.left, curr)\n",
    "            right = dfs(node.right, curr)\n",
    "            return left or right\n",
    "        \n",
    "        return dfs(root, 0)\n",
    "    \n",
    "\n",
    "# Create the binary tree\n",
    "root = TreeNode(5)\n",
    "root.left = TreeNode(4, TreeNode(11, TreeNode(7), TreeNode(2)))\n",
    "root.right = TreeNode(8, TreeNode(13), TreeNode(4, None, TreeNode(1)))\n",
    "\n",
    "# Tree structure:\n",
    "#         5\n",
    "#        / \\\n",
    "#       4   8\n",
    "#      /   / \\\n",
    "#     11  13  4\n",
    "#    /  \\      \\\n",
    "#   7    2      1\n",
    "\n",
    "# Instantiate the Solution class\n",
    "solution = Solution()\n",
    "\n",
    "# Find the maximum depth of the tree\n",
    "max_depth = solution.maxDepth(root)\n",
    "print(f\"Maximum Depth of the Tree: {max_depth}\")  # Output: Maximum Depth of the Tree\n",
    "\n",
    "# Check if there's a path that sums to 7\n",
    "path_exists = solution.hasPathSum(root, 7)\n",
    "print(f\"Path with sum 7 exists: {path_exists}\")  # Output: True or False depending on the target sum and tree structure\n"
   ]
  },
  {
   "cell_type": "markdown",
   "id": "b98ce172",
   "metadata": {},
   "source": [
    "## Graphs"
   ]
  },
  {
   "cell_type": "code",
   "execution_count": 1,
   "id": "08d75346",
   "metadata": {},
   "outputs": [
    {
     "name": "stdout",
     "output_type": "stream",
     "text": [
      "[[0. 0. 0. 0.]\n",
      " [0. 0. 0. 0.]\n",
      " [0. 0. 0. 0.]\n",
      " [0. 0. 0. 0.]]\n",
      "Agent position: (0, 0)\n",
      "Goal position: (3, 3)\n"
     ]
    }
   ],
   "source": [
    "import numpy as np\n",
    "\n",
    "class GridWorld:\n",
    "    def __init__(self, agent_position, goal_position):\n",
    "        self.agent_position = agent_position\n",
    "        self.goal_position = goal_position\n",
    "        self.gridworld = np.zeros((4, 4))\n",
    "    \n",
    "    def print_environment(self):\n",
    "        print(self.gridworld)\n",
    "        print(f\"Agent position: {self.agent_position}\")\n",
    "        print(f\"Goal position: {self.goal_position}\")\n",
    "\n",
    "# Create an instance of GridWorld with specified agent and goal positions\n",
    "agent_position = (0, 0)\n",
    "goal_position = (3, 3)\n",
    "gridworld_instance = GridWorld(agent_position, goal_position)\n",
    "\n",
    "# Print the gridworld environment\n",
    "gridworld_instance.print_environment()"
   ]
  }
 ],
 "metadata": {
  "kernelspec": {
   "display_name": "fd-rl",
   "language": "python",
   "name": "python3"
  },
  "language_info": {
   "codemirror_mode": {
    "name": "ipython",
    "version": 3
   },
   "file_extension": ".py",
   "mimetype": "text/x-python",
   "name": "python",
   "nbconvert_exporter": "python",
   "pygments_lexer": "ipython3",
   "version": "3.12.1"
  }
 },
 "nbformat": 4,
 "nbformat_minor": 5
}
