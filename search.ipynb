{
 "cells": [
  {
   "cell_type": "markdown",
   "id": "6094ccbe",
   "metadata": {},
   "source": [
    "# Search algorithms \n",
    "\n",
    "Practice the fundamentals of:\n",
    "* Search algorithms\n",
    "* Graph algorithms\n",
    "* Dynamic programming"
   ]
  },
  {
   "cell_type": "code",
   "execution_count": 1,
   "id": "74beb0ee",
   "metadata": {},
   "outputs": [],
   "source": [
    "# Import libraries\n",
    "import numpy as np \n",
    "from typing import Optional\n",
    "import copy"
   ]
  },
  {
   "cell_type": "markdown",
   "id": "197fffaf",
   "metadata": {},
   "source": [
    "## Strings and Arrrays"
   ]
  },
  {
   "cell_type": "markdown",
   "id": "0aa4a663",
   "metadata": {},
   "source": [
    "### Two pointers"
   ]
  },
  {
   "cell_type": "code",
   "execution_count": 7,
   "id": "310ab04c",
   "metadata": {},
   "outputs": [
    {
     "name": "stdout",
     "output_type": "stream",
     "text": [
      "False\n",
      "True\n"
     ]
    }
   ],
   "source": [
    "# Example 1: Given a string s, return true if it is a palindrome, false otherwise.\n",
    "\n",
    "class PalindromeSolution:\n",
    "    def is_palindrome(self, s):\n",
    "        for i in range(0,len(s)):\n",
    "            if s[i] != s[-(i+1)]:\n",
    "                return False\n",
    "        return True\n",
    "\n",
    "palindrome_example_1 = 'trial'\n",
    "palindrome_example_2 = 'noon'\n",
    "\n",
    "palindrome_solution = PalindromeSolution()\n",
    "print(palindrome_solution.is_palindrome(palindrome_example_1))\n",
    "print(palindrome_solution.is_palindrome(palindrome_example_2))"
   ]
  },
  {
   "cell_type": "code",
   "execution_count": 19,
   "id": "93de64f2",
   "metadata": {},
   "outputs": [
    {
     "name": "stdout",
     "output_type": "stream",
     "text": [
      "True\n"
     ]
    }
   ],
   "source": [
    "# Example 2: Given a sorted array of unique integers and a target integer, \n",
    "# return true if there exists a pair of numbers that sum to target, false otherwise. \n",
    "\n",
    "# For example, given nums = [1, 2, 4, 6, 8, 9, 14, 15] and target = 13, return true because 4 + 9 = 13.\n",
    "\n",
    "class PairSumSolution:\n",
    "    def contains_pair_matching_target_sum(self, sorted_array, target_sum):\n",
    "        index_end = len(sorted_array) - 1\n",
    "        i = 0\n",
    "        j = index_end\n",
    "        while i <= index_end and j >= 0: # using (left < right) instead avoids duplicate work\n",
    "            current_sum = sorted_array[i] + sorted_array[j]\n",
    "            if current_sum == target_sum:\n",
    "                return True\n",
    "            if current_sum < target_sum:\n",
    "                i += 1\n",
    "            if current_sum > target_sum:\n",
    "                j -= 1\n",
    "        \n",
    "        return False\n",
    "            \n",
    "            \n",
    "array_example = [1, 2, 4, 6, 8, 9, 14, 15]\n",
    "target_example = 13\n",
    "\n",
    "pair_sum_solution = PairSumSolution()\n",
    "print(pair_sum_solution.contains_pair_matching_target_sum(array_example, target_example))\n"
   ]
  },
  {
   "cell_type": "markdown",
   "id": "e71523d9",
   "metadata": {},
   "source": [
    "### Sorting"
   ]
  },
  {
   "cell_type": "code",
   "execution_count": 17,
   "metadata": {},
   "outputs": [
    {
     "name": "stdout",
     "output_type": "stream",
     "text": [
      "[1, 1, 2, 3, 4, 5, 7, 8, 11]\n"
     ]
    }
   ],
   "source": [
    "# Example 3: Given two sorted integer arrays arr1 and arr2, \n",
    "# return a new array that combines both of them and is also sorted.\n",
    "\n",
    "class MergeSortedSolution:\n",
    "    def merge_sorted_arrays(self, arr1, arr2):\n",
    "        i = 0\n",
    "        j = 0\n",
    "        merged = []\n",
    "\n",
    "        while i < len(arr1) and j < len(arr2):\n",
    "            if arr1[i] <= arr2[j]:\n",
    "                merged.append(arr1[i])\n",
    "                i += 1\n",
    "            else:\n",
    "                merged.append(arr2[j])\n",
    "                j += 1\n",
    "        \n",
    "        while i < len(arr1):\n",
    "            merged.append(arr1[i])\n",
    "            i += 1\n",
    "\n",
    "        while j < len(arr2):\n",
    "            merged.append(arr2[j])\n",
    "            j += 1\n",
    "\n",
    "        return merged\n",
    "\n",
    "\n",
    "example_array_1 = [1, 2, 5, 8]\n",
    "example_array_2 = [1, 3, 4, 7, 11]\n",
    "\n",
    "example_solution_array = [1, 1, 2, 3, 4, 5, 7, 8, 11]\n",
    "function_solution = MergeSortedSolution()\n",
    "print(function_solution.merge_sorted_arrays(arr1=example_array_1, arr2=example_array_2))"
   ]
  },
  {
   "cell_type": "code",
   "execution_count": 21,
   "id": "a609e6e2",
   "metadata": {},
   "outputs": [
    {
     "name": "stdout",
     "output_type": "stream",
     "text": [
      "True\n",
      "False\n"
     ]
    }
   ],
   "source": [
    "# Example 4: 392. Is Subsequence.\n",
    "\n",
    "# Given two strings s and t, return true if s is a subsequence of t, or false otherwise.\n",
    "\n",
    "# A subsequence of a string is a sequence of characters that can be obtained by deleting some (or none) of the characters \n",
    "# from the original string, while maintaining the relative order of the remaining characters. \n",
    "# For example, \"ace\" is a subsequence of \"abcde\" while \"aec\" is not.\n",
    "\n",
    "class SubSeqSolution:\n",
    "    def is_subsequence(self, s, t):\n",
    "        i = 0\n",
    "        j = 0\n",
    "        while i < len(s) and j < len(t):\n",
    "            if s[i] == t[j]:\n",
    "                i += 1\n",
    "            else:\n",
    "                j += 1\n",
    "\n",
    "        if i == len(s):\n",
    "            return True\n",
    "            # If we incremented all the way through the subsequence, \n",
    "            # we've found a match for all the characters\n",
    "        \n",
    "        return False\n",
    "\n",
    "example_sequence = \"abcde\"\n",
    "example_subsequence = \"ace\"\n",
    "example_nonsubsequence = \"aec\"\n",
    "\n",
    "subseq_solution = SubSeqSolution()\n",
    "print(subseq_solution.is_subsequence(s=example_subsequence, t=example_sequence))\n",
    "print(subseq_solution.is_subsequence(s=example_nonsubsequence, t=example_sequence))\n"
   ]
  },
  {
   "cell_type": "code",
   "execution_count": 40,
   "id": "68b0ef1a",
   "metadata": {},
   "outputs": [
    {
     "name": "stdout",
     "output_type": "stream",
     "text": [
      "[0, 1, 9, 16, 100]\n"
     ]
    }
   ],
   "source": [
    "# Given an integer array nums sorted in non-decreasing order,\n",
    "# return an array of the squares of each number sorted in non-decreasing order.\n",
    "\n",
    "class SquaredSolution:\n",
    "    def sortedSquares(self, nums):\n",
    "        left = 0\n",
    "        right = len(nums) - 1\n",
    "        ans = []\n",
    "\n",
    "        while left <= right:\n",
    "            if abs(nums[left]) > abs(nums[right]):\n",
    "                ans.append(nums[left]**2)\n",
    "                left += 1\n",
    "            else:\n",
    "                ans.append(nums[right]**2)\n",
    "                right -= 1\n",
    "\n",
    "        ans.reverse()\n",
    "\n",
    "        return ans\n",
    "            \n",
    "\n",
    "squared_input = [-4,-1,0,3,10]\n",
    "squared_answer = [0,1,9,16,100]\n",
    "squared_solution = SquaredSolution()\n",
    "print(squared_solution.sortedSquares(nums=squared_input))"
   ]
  },
  {
   "cell_type": "markdown",
   "id": "d05fc28d",
   "metadata": {},
   "source": [
    "### Sliding windows"
   ]
  },
  {
   "cell_type": "code",
   "execution_count": 18,
   "id": "138458b3",
   "metadata": {},
   "outputs": [
    {
     "name": "stdout",
     "output_type": "stream",
     "text": [
      "[6 1 4 4 8 4 6 3 5 8]\n",
      "3\n"
     ]
    }
   ],
   "source": [
    "# Example 1: Given an array of positive integers nums and an integer k, \n",
    "# find the length of the longest subarray whose sum is less than or equal to k. \n",
    "\n",
    "class LongestArraySolution:\n",
    "    def longest_array_leq_k(self, nums, k):\n",
    "        left = 0\n",
    "        current_sum = 0\n",
    "        max_length = 0\n",
    "\n",
    "        for right in range(0, len(nums)):\n",
    "\n",
    "            current_sum = current_sum + nums[right]\n",
    "\n",
    "            while current_sum > k and left < right:\n",
    "                current_sum = current_sum - nums[left]\n",
    "                left += 1\n",
    "                \n",
    "            current_length = 1 + right - left   # when left=right, window length is 1\n",
    "\n",
    "            if current_length > max_length:\n",
    "                max_length = current_length\n",
    "        \n",
    "        return max_length\n",
    "    \n",
    "\n",
    "# generate an array over which to take the sums\n",
    "np.random.seed(0) \n",
    "random_integer_array = np.random.randint(1, 10, size=10) # Between 1 and 100 (inclusive)\n",
    "maximum_sum = 10\n",
    "longest_array_solution = LongestArraySolution()\n",
    "print(random_integer_array)\n",
    "print(longest_array_solution.longest_array_leq_k(nums=random_integer_array, k=maximum_sum))\n"
   ]
  },
  {
   "cell_type": "code",
   "execution_count": 14,
   "id": "9e1063a6",
   "metadata": {},
   "outputs": [
    {
     "name": "stdout",
     "output_type": "stream",
     "text": [
      "5\n",
      "6\n"
     ]
    }
   ],
   "source": [
    "# Example 2: You are given a binary string s (a string containing only \"0\" and \"1\"). \n",
    "# You may choose up to one \"0\" and flip it to a \"1\". \n",
    "# What is the length of the longest substring achievable that contains only \"1\"?\n",
    "\n",
    "class BinaryStringSolution:\n",
    "    def find_longest_substring(self, s):\n",
    "        left = 0\n",
    "        zero_counter = 0\n",
    "        max_window_width = 0\n",
    "\n",
    "        for right in range(len(s)):\n",
    "\n",
    "            if s[right] == '0':\n",
    "                zero_counter += 1\n",
    "\n",
    "            while zero_counter > 1:\n",
    "                left += 1              \n",
    "                if s[left] == '0':\n",
    "                    zero_counter -= 1\n",
    "            \n",
    "            window_width = 1 + right - left\n",
    "            max_window_width = max(window_width, max_window_width)\n",
    "\n",
    "        return max_window_width\n",
    "\n",
    "example_string_input_1 = \"1101100111\"\n",
    "binary_string_solution = BinaryStringSolution()\n",
    "print(binary_string_solution.find_longest_substring(s=example_string_input_1)) # answer should be 5\n",
    "\n",
    "example_string_input_2 = \"110111\"\n",
    "print(binary_string_solution.find_longest_substring(s=example_string_input_2)) # answer should be 5\n"
   ]
  },
  {
   "cell_type": "code",
   "execution_count": 20,
   "id": "c57d6957",
   "metadata": {},
   "outputs": [
    {
     "name": "stdout",
     "output_type": "stream",
     "text": [
      "8\n"
     ]
    }
   ],
   "source": [
    "# Example 3: 713. Subarray Product Less Than K.\n",
    "\n",
    "# Given an array of positive integers nums and an integer k, \n",
    "# return the number of subarrays where \n",
    "# the product of all the elements in the subarray is strictly less than k.\n",
    "\n",
    "class ConstrainedProductSolution:\n",
    "    def count_subarrays_product_less_than_k(self, nums, k):\n",
    "        left = 0\n",
    "        count = 0\n",
    "        product = 1\n",
    "\n",
    "        for right in range(len(nums)):\n",
    "            product *= nums[right]\n",
    "\n",
    "            while product >= k:\n",
    "                product /= nums[left]\n",
    "                left += 1\n",
    "\n",
    "            count += 1 + right - left\n",
    "\n",
    "        return count\n",
    "\n",
    "constrained_product_solution = ConstrainedProductSolution()\n",
    "    \n",
    "example_nums = [10, 5, 2, 6]\n",
    "example_k = 100\n",
    "print(constrained_product_solution.count_subarrays_product_less_than_k(nums=example_nums, k=example_k))\n",
    "# Answer = 8. The subarrays with products less than k are:\n",
    "# [10], [5], [2], [6], [10, 5], [5, 2], [2, 6], [5, 2, 6]"
   ]
  },
  {
   "cell_type": "code",
   "execution_count": 29,
   "id": "a9b8f86c",
   "metadata": {},
   "outputs": [
    {
     "name": "stdout",
     "output_type": "stream",
     "text": [
      "[5, 6]\n"
     ]
    }
   ],
   "source": [
    "# Example 4: Given an integer array nums and an integer k, \n",
    "# find the sum of the subarray with the largest sum whose length is k.\n",
    "\n",
    "class SubarraySumSolution:\n",
    "    def find_subarray_with_largest_sum(self, nums, k):\n",
    "        \n",
    "        sum_max_so_far = 0\n",
    "        index_max_so_far = 0\n",
    "        sum_current = sum(nums[0:(k-1)]) # initial values\n",
    "\n",
    "        for i in range(0, len(nums)-k):\n",
    "\n",
    "            sum_current += nums[i+k] - nums[i]\n",
    "\n",
    "            if sum_current > sum_max_so_far:\n",
    "               sum_max_so_far = sum_current\n",
    "               i_max_so_far = i + 1\n",
    "\n",
    "        largest_subarray = nums[i_max_so_far:(i_max_so_far + k)]\n",
    "\n",
    "        return largest_subarray\n",
    "    \n",
    "\n",
    "example_nums = [1, 2, 3, 4, 5, 6]\n",
    "example_k = 2\n",
    "subarray_sum_solution = SubarraySumSolution()\n",
    "print(subarray_sum_solution.find_subarray_with_largest_sum(nums=example_nums, k=example_k))"
   ]
  },
  {
   "cell_type": "code",
   "execution_count": 38,
   "id": "6dd20c33",
   "metadata": {},
   "outputs": [
    {
     "name": "stdout",
     "output_type": "stream",
     "text": [
      "2\n"
     ]
    }
   ],
   "source": [
    "# Example 2: 2270. Number of Ways to Split Array\n",
    "\n",
    "# Given an integer array nums, \n",
    "# find the number of ways to split the array into two parts so that \n",
    "# the first section has a sum greater than or equal to the sum of the second section. \n",
    "# The second section should have at least one number.\n",
    "\n",
    "class ArraySplitSolution:\n",
    "    def count_splits_first_sum_larger_than_second(self, nums):\n",
    "        array_count = 0\n",
    "        left_sums = []\n",
    "        right_sums = []\n",
    "        left_sums.append(nums[0])\n",
    "\n",
    "        for i in range(1, len(nums)): \n",
    "            # starts from -1 because must be at least one element in right array\n",
    "            left_sums.append(left_sums[i-1] + nums[i])\n",
    "\n",
    "        for i in range(0, len(nums) - 1):\n",
    "            right_sums.append(left_sums[-1] - left_sums[i])\n",
    "            if left_sums[i] > right_sums[i]:\n",
    "                array_count += 1\n",
    "\n",
    "        return array_count\n",
    "\n",
    "example_nums = [1, 6, 3, 2, 7, 2]\n",
    "\n",
    "array_split_solution = ArraySplitSolution()\n",
    "print(array_split_solution.count_splits_first_sum_larger_than_second(nums=example_nums))\n",
    "\n",
    "# NB: more efficient to start by calculating the total sum and incrementing the count within one loop\n"
   ]
  },
  {
   "cell_type": "markdown",
   "id": "48f11fb6",
   "metadata": {},
   "source": [
    "## Hashing"
   ]
  },
  {
   "cell_type": "code",
   "execution_count": 22,
   "id": "34385c18",
   "metadata": {},
   "outputs": [
    {
     "name": "stdout",
     "output_type": "stream",
     "text": [
      "[0, 4]\n",
      "[2, 3]\n"
     ]
    }
   ],
   "source": [
    "# Example 1: 1. Two Sum\n",
    "\n",
    "# Given an array of integers nums and an integer target,\n",
    "# return indices of two numbers such that they add up to target. \n",
    "# You cannot use the same index twice.\n",
    "\n",
    "class TwoSumSolution:\n",
    "    def find_indices_matching_sum(self, nums, target):\n",
    "        hashmap = {}\n",
    "\n",
    "        for i in range(len(nums)):\n",
    "            if nums[i] not in hashmap.keys():\n",
    "                hashmap[nums[i]] = [i]\n",
    "            else:\n",
    "                hashmap[nums[i]].append(i)\n",
    "\n",
    "        for key1 in hashmap.keys():\n",
    "            for key2 in reversed(hashmap.keys()):\n",
    "                current_sum = key1 + key2\n",
    "                if current_sum == target:\n",
    "                    if key1 != key2:\n",
    "                        return [hashmap[key1][0], hashmap[key2][0]]\n",
    "                    else:\n",
    "                        return hashmap[key1][:2]\n",
    "                    \n",
    "        print('no pairs match')\n",
    "\n",
    "\n",
    "nums1 = [1, 1, 1, 1, 9]\n",
    "nums2 = [1, 3, 5, 5, 6]\n",
    "target = 10\n",
    "print(TwoSumSolution().find_indices_matching_sum(nums1, target))\n",
    "print(TwoSumSolution().find_indices_matching_sum(nums2, target))\n",
    "\n",
    "# This can be made a lot faster by looking directly in the keys for [complement = target - current value]"
   ]
  },
  {
   "cell_type": "code",
   "execution_count": 24,
   "id": "7de711df",
   "metadata": {},
   "outputs": [
    {
     "name": "stdout",
     "output_type": "stream",
     "text": [
      "a\n"
     ]
    }
   ],
   "source": [
    "# Example 2: 2351. First Letter to Appear Twice\n",
    "\n",
    "# Given a string s, return the first character to appear twice. \n",
    "# It is guaranteed that the input will have a duplicate character.\n",
    "\n",
    "class LetterTwiceSolution:\n",
    "    def find_first_letter_appearing_twice(self, s):\n",
    "        hashmap = {}\n",
    "                    \n",
    "        for char in s:\n",
    "            if char not in hashmap.keys():\n",
    "                hashmap[char] = 1\n",
    "            else:\n",
    "                return(char)\n",
    "\n",
    "\n",
    "s = \"abcdeab\"\n",
    "print(LetterTwiceSolution().find_first_letter_appearing_twice(s))\n",
    "\n",
    "# value is True-False, so using set() is better"
   ]
  },
  {
   "cell_type": "markdown",
   "id": "40d9217b",
   "metadata": {},
   "source": [
    "### Checking for existence"
   ]
  },
  {
   "cell_type": "code",
   "execution_count": 30,
   "id": "738f0dcc",
   "metadata": {},
   "outputs": [
    {
     "name": "stdout",
     "output_type": "stream",
     "text": [
      "[1, 3, 5, 7]\n"
     ]
    }
   ],
   "source": [
    "# Example 3: Given an integer array nums, \n",
    "# find all the unique numbers x in nums that satisfy the following: \n",
    "# x + 1 is not in nums, and x - 1 is not in nums.\n",
    "\n",
    "class NoNeighboursSolution:\n",
    "    def find_nums_without_neighbours(self, nums):\n",
    "        uniques = set()\n",
    "        \n",
    "        for num in nums:\n",
    "            if num not in uniques:\n",
    "                uniques.add(num)\n",
    "\n",
    "        satisfying = []\n",
    "\n",
    "        for num in uniques:\n",
    "            if not (num - 1 in uniques and num + 1 in uniques):\n",
    "                satisfying.append(num)\n",
    "\n",
    "        return satisfying\n",
    "\n",
    "\n",
    "nums = [1, 3, 4, 5, 7]\n",
    "print(NoNeighboursSolution().find_nums_without_neighbours(nums))\n",
    "\n",
    "# No need for a loop to create the set; just use set(nums) directly"
   ]
  },
  {
   "cell_type": "markdown",
   "id": "b737c67e",
   "metadata": {},
   "source": [
    "## Linked lists"
   ]
  },
  {
   "cell_type": "code",
   "execution_count": null,
   "id": "0bc16b42",
   "metadata": {},
   "outputs": [],
   "source": [
    "# Linked list\n",
    "def get_sum(head):\n",
    "    ans = 0\n",
    "    while head:\n",
    "        ans += head.val\n",
    "        head = head.next\n",
    "    \n",
    "    return ans"
   ]
  },
  {
   "cell_type": "markdown",
   "id": "ac21bc4a",
   "metadata": {},
   "source": [
    "## Binary Trees"
   ]
  },
  {
   "cell_type": "code",
   "execution_count": 17,
   "id": "f0e585f1",
   "metadata": {},
   "outputs": [
    {
     "name": "stdout",
     "output_type": "stream",
     "text": [
      "Maximum Depth of the Tree: 4\n",
      "Path with sum 7 exists: False\n"
     ]
    },
    {
     "data": {
      "text/plain": [
       "13"
      ]
     },
     "execution_count": 17,
     "metadata": {},
     "output_type": "execute_result"
    }
   ],
   "source": [
    "class TreeNode:\n",
    "    def __init__(self, val=0, left=None, right=None):\n",
    "        self.val = val\n",
    "        self.left = left\n",
    "        self.right = right\n",
    "        \n",
    "class Solution:\n",
    "    \"\"\"\n",
    "    This class provides solutions for various problems related to binary trees.\n",
    "    \"\"\"\n",
    "    \n",
    "    def max_depth(self, root: Optional[TreeNode]) -> int:\n",
    "        \"\"\"\n",
    "        Returns the maximum depth of a binary tree.\n",
    "        \n",
    "        Args:\n",
    "            root: The root node of the binary tree.\n",
    "        \n",
    "        Returns:\n",
    "            int: The maximum depth of the binary tree.\n",
    "        \"\"\"\n",
    "        if not root:\n",
    "            return 0\n",
    "        \n",
    "        left = self.max_depth(root.left)\n",
    "        right = self.max_depth(root.right)\n",
    "        return max(left, right) + 1\n",
    "    \n",
    "    def has_path_sum(self, root: Optional[TreeNode], target_sum: int) -> bool:\n",
    "        \"\"\"\n",
    "        Determines if there exists a path from the root to a leaf in the binary tree\n",
    "        such that the sum of the nodes on the path is equal to the target sum.\n",
    "        \n",
    "        Args:\n",
    "            root: The root node of the binary tree.\n",
    "            target_sum: The target sum to be achieved.\n",
    "        \n",
    "        Returns:\n",
    "            bool: True if there exists a path with the target sum, False otherwise.\n",
    "        \"\"\"\n",
    "        def dfs(node, curr):\n",
    "            if not node:\n",
    "                return False\n",
    "            \n",
    "            if node.left is None and node.right is None:\n",
    "                return (curr + node.val) == target_sum\n",
    "            \n",
    "            curr += node.val\n",
    "            left = dfs(node.left, curr)\n",
    "            right = dfs(node.right, curr)\n",
    "            return left or right\n",
    "        \n",
    "        return dfs(root, 0)\n",
    "    \n",
    "\n",
    "# Create the binary tree\n",
    "root = TreeNode(val=5)\n",
    "root.left = TreeNode(val=4, left=TreeNode(val=11, left=TreeNode(val=7), right=TreeNode(val=2)))\n",
    "root.right = TreeNode(val=8, left=TreeNode(val=13), right=TreeNode(val=4, left=None, right=TreeNode(val=1)))\n",
    "\n",
    "# Tree structure:\n",
    "#         5\n",
    "#        / \\\n",
    "#       4   8\n",
    "#      /   / \\\n",
    "#     11  13  4\n",
    "#    /  \\      \\\n",
    "#   7    2      1\n",
    "\n",
    "# Instantiate the Solution class\n",
    "solution = Solution()\n",
    "\n",
    "# Find the maximum depth of the tree\n",
    "max_depth = solution.max_depth(root)\n",
    "print(f\"Maximum Depth of the Tree: {max_depth}\")  # Output: Maximum Depth of the Tree\n",
    "\n",
    "# Check if there's a path that sums to 7\n",
    "path_exists = solution.has_path_sum(root, 7)\n",
    "print(f\"Path with sum 7 exists: {path_exists}\")  # Output: True or False depending on the target sum and tree structure\n"
   ]
  },
  {
   "cell_type": "code",
   "execution_count": 28,
   "id": "f4fb7c3b",
   "metadata": {},
   "outputs": [
    {
     "name": "stdout",
     "output_type": "stream",
     "text": [
      "4\n"
     ]
    }
   ],
   "source": [
    "# Given the root of a binary tree, find the number of nodes that are good. \n",
    "# A node is good if the path between the root and the node has no nodes with a greater value.\n",
    "\n",
    "class GoodNodesSolution:\n",
    "    def count_good_nodes_in_tree(self, root: TreeNode):\n",
    "        def count_good_nodes_in_subtree(node, max_val_of_ancestors):\n",
    "\n",
    "            # Missing leaves don't contribute any good nodes\n",
    "            if not node:\n",
    "                return 0\n",
    "            \n",
    "            # How many good nodes do we get from the current node's children?\n",
    "            max_val_incl_current_node = max(max_val_of_ancestors, node.val)\n",
    "            good_nodes_from_left_child = count_good_nodes_in_subtree(node.left, max_val_incl_current_node)\n",
    "            good_nodes_from_right_child = count_good_nodes_in_subtree(node.right, max_val_incl_current_node)\n",
    "            good_nodes = good_nodes_from_left_child + good_nodes_from_right_child\n",
    "\n",
    "            # Is our current node also a good node?\n",
    "            if node.val >= max_val_of_ancestors:\n",
    "                good_nodes += 1\n",
    "\n",
    "            return good_nodes\n",
    "\n",
    "        return count_good_nodes_in_subtree(node=root, max_val_of_ancestors=float(\"-inf\"))\n",
    "        # We start at the root, which has no ancestors \n",
    "        # It's the only node that doesn't need a \"max_val_of_ancestors\" to have been calculated externally\n",
    "        # I.e. it's a good node by definition\n",
    "\n",
    "good_nodes_solution = GoodNodesSolution()\n",
    "good_nodes = good_nodes_solution.count_good_nodes_in_tree(root=root)\n",
    "print(good_nodes)\n",
    "    "
   ]
  },
  {
   "cell_type": "code",
   "execution_count": 40,
   "id": "df65588b",
   "metadata": {},
   "outputs": [
    {
     "name": "stdout",
     "output_type": "stream",
     "text": [
      "True\n",
      "False\n"
     ]
    }
   ],
   "source": [
    "# Given the roots of two binary trees p and q, check if they are the same tree. \n",
    "# Two binary trees are the same tree if they are structurally identical and the nodes have the same values.\n",
    "\n",
    "root1 = copy.deepcopy(root)\n",
    "root2 = copy.deepcopy(root)\n",
    "root2.right.left.val = 2 # change one of the values so the trees don't match\n",
    "\n",
    "class SameTreeSolution:\n",
    "    def are_trees_identical(self, root1, root2):\n",
    "\n",
    "        # Base cases where leaves are empty\n",
    "        if root1 is None and root2 is None:\n",
    "            return True\n",
    "        if root1 is None and root2 is not None:\n",
    "            return False\n",
    "        if root2 is None and root1 is not None:\n",
    "            return False\n",
    "        \n",
    "        # Check current node\n",
    "        values_match = root1.val == root2.val\n",
    "\n",
    "        # Check child nodes (recursive)\n",
    "        left_children_match = self.are_trees_identical(root1=root1.left, root2=root2.left)\n",
    "        right_children_match = self.are_trees_identical(root1=root1.right, root2=root2.right)\n",
    "\n",
    "        # Combine\n",
    "        is_complete_match = values_match and left_children_match and right_children_match\n",
    "\n",
    "        return is_complete_match\n",
    "    \n",
    "same_tree_solution = SameTreeSolution()\n",
    "\n",
    "are_trees_identical_1 = same_tree_solution.are_trees_identical(root1=root1, root2=root1)\n",
    "print(are_trees_identical_1)\n",
    "\n",
    "are_trees_identical_2 = same_tree_solution.are_trees_identical(root1=root1, root2=root2)\n",
    "print(are_trees_identical_2)"
   ]
  },
  {
   "cell_type": "markdown",
   "id": "b98ce172",
   "metadata": {},
   "source": [
    "## Graphs"
   ]
  },
  {
   "cell_type": "code",
   "execution_count": 1,
   "id": "08d75346",
   "metadata": {},
   "outputs": [
    {
     "name": "stdout",
     "output_type": "stream",
     "text": [
      "[[0. 0. 0. 0.]\n",
      " [0. 0. 0. 0.]\n",
      " [0. 0. 0. 0.]\n",
      " [0. 0. 0. 0.]]\n",
      "Agent position: (0, 0)\n",
      "Goal position: (3, 3)\n"
     ]
    }
   ],
   "source": [
    "import numpy as np\n",
    "\n",
    "class GridWorld:\n",
    "    def __init__(self, agent_position, goal_position):\n",
    "        self.agent_position = agent_position\n",
    "        self.goal_position = goal_position\n",
    "        self.gridworld = np.zeros((4, 4))\n",
    "    \n",
    "    def print_environment(self):\n",
    "        print(self.gridworld)\n",
    "        print(f\"Agent position: {self.agent_position}\")\n",
    "        print(f\"Goal position: {self.goal_position}\")\n",
    "\n",
    "# Create an instance of GridWorld with specified agent and goal positions\n",
    "agent_position = (0, 0)\n",
    "goal_position = (3, 3)\n",
    "gridworld_instance = GridWorld(agent_position, goal_position)\n",
    "\n",
    "# Print the gridworld environment\n",
    "gridworld_instance.print_environment()"
   ]
  }
 ],
 "metadata": {
  "kernelspec": {
   "display_name": "fd-rl",
   "language": "python",
   "name": "python3"
  },
  "language_info": {
   "codemirror_mode": {
    "name": "ipython",
    "version": 3
   },
   "file_extension": ".py",
   "mimetype": "text/x-python",
   "name": "python",
   "nbconvert_exporter": "python",
   "pygments_lexer": "ipython3",
   "version": "3.12.1"
  }
 },
 "nbformat": 4,
 "nbformat_minor": 5
}
