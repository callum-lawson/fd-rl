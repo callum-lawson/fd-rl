{
 "cells": [
  {
   "cell_type": "markdown",
   "id": "6094ccbe",
   "metadata": {},
   "source": [
    "# Search algorithms \n",
    "\n",
    "Practice the fundamentals of:\n",
    "* Search algorithms\n",
    "* Graph algorithms\n",
    "* Dynamic programming"
   ]
  },
  {
   "cell_type": "code",
   "execution_count": 29,
   "id": "74beb0ee",
   "metadata": {},
   "outputs": [],
   "source": [
    "# Import libraries\n",
    "from typing import Optional\n",
    "import copy"
   ]
  },
  {
   "cell_type": "markdown",
   "id": "b737c67e",
   "metadata": {},
   "source": [
    "## Linked lists"
   ]
  },
  {
   "cell_type": "code",
   "execution_count": null,
   "id": "0bc16b42",
   "metadata": {},
   "outputs": [],
   "source": [
    "# Linked list\n",
    "def get_sum(head):\n",
    "    ans = 0\n",
    "    while head:\n",
    "        ans += head.val\n",
    "        head = head.next\n",
    "    \n",
    "    return ans"
   ]
  },
  {
   "cell_type": "markdown",
   "id": "ac21bc4a",
   "metadata": {},
   "source": [
    "## Binary Trees"
   ]
  },
  {
   "cell_type": "code",
   "execution_count": 17,
   "id": "f0e585f1",
   "metadata": {},
   "outputs": [
    {
     "name": "stdout",
     "output_type": "stream",
     "text": [
      "Maximum Depth of the Tree: 4\n",
      "Path with sum 7 exists: False\n"
     ]
    },
    {
     "data": {
      "text/plain": [
       "13"
      ]
     },
     "execution_count": 17,
     "metadata": {},
     "output_type": "execute_result"
    }
   ],
   "source": [
    "class TreeNode:\n",
    "    def __init__(self, val=0, left=None, right=None):\n",
    "        self.val = val\n",
    "        self.left = left\n",
    "        self.right = right\n",
    "        \n",
    "class Solution:\n",
    "    \"\"\"\n",
    "    This class provides solutions for various problems related to binary trees.\n",
    "    \"\"\"\n",
    "    \n",
    "    def max_depth(self, root: Optional[TreeNode]) -> int:\n",
    "        \"\"\"\n",
    "        Returns the maximum depth of a binary tree.\n",
    "        \n",
    "        Args:\n",
    "            root: The root node of the binary tree.\n",
    "        \n",
    "        Returns:\n",
    "            int: The maximum depth of the binary tree.\n",
    "        \"\"\"\n",
    "        if not root:\n",
    "            return 0\n",
    "        \n",
    "        left = self.max_depth(root.left)\n",
    "        right = self.max_depth(root.right)\n",
    "        return max(left, right) + 1\n",
    "    \n",
    "    def has_path_sum(self, root: Optional[TreeNode], target_sum: int) -> bool:\n",
    "        \"\"\"\n",
    "        Determines if there exists a path from the root to a leaf in the binary tree\n",
    "        such that the sum of the nodes on the path is equal to the target sum.\n",
    "        \n",
    "        Args:\n",
    "            root: The root node of the binary tree.\n",
    "            target_sum: The target sum to be achieved.\n",
    "        \n",
    "        Returns:\n",
    "            bool: True if there exists a path with the target sum, False otherwise.\n",
    "        \"\"\"\n",
    "        def dfs(node, curr):\n",
    "            if not node:\n",
    "                return False\n",
    "            \n",
    "            if node.left is None and node.right is None:\n",
    "                return (curr + node.val) == target_sum\n",
    "            \n",
    "            curr += node.val\n",
    "            left = dfs(node.left, curr)\n",
    "            right = dfs(node.right, curr)\n",
    "            return left or right\n",
    "        \n",
    "        return dfs(root, 0)\n",
    "    \n",
    "\n",
    "# Create the binary tree\n",
    "root = TreeNode(val=5)\n",
    "root.left = TreeNode(val=4, left=TreeNode(val=11, left=TreeNode(val=7), right=TreeNode(val=2)))\n",
    "root.right = TreeNode(val=8, left=TreeNode(val=13), right=TreeNode(val=4, left=None, right=TreeNode(val=1)))\n",
    "\n",
    "# Tree structure:\n",
    "#         5\n",
    "#        / \\\n",
    "#       4   8\n",
    "#      /   / \\\n",
    "#     11  13  4\n",
    "#    /  \\      \\\n",
    "#   7    2      1\n",
    "\n",
    "# Instantiate the Solution class\n",
    "solution = Solution()\n",
    "\n",
    "# Find the maximum depth of the tree\n",
    "max_depth = solution.max_depth(root)\n",
    "print(f\"Maximum Depth of the Tree: {max_depth}\")  # Output: Maximum Depth of the Tree\n",
    "\n",
    "# Check if there's a path that sums to 7\n",
    "path_exists = solution.has_path_sum(root, 7)\n",
    "print(f\"Path with sum 7 exists: {path_exists}\")  # Output: True or False depending on the target sum and tree structure\n"
   ]
  },
  {
   "cell_type": "code",
   "execution_count": 28,
   "id": "f4fb7c3b",
   "metadata": {},
   "outputs": [
    {
     "name": "stdout",
     "output_type": "stream",
     "text": [
      "4\n"
     ]
    }
   ],
   "source": [
    "# Given the root of a binary tree, find the number of nodes that are good. \n",
    "# A node is good if the path between the root and the node has no nodes with a greater value.\n",
    "\n",
    "class GoodNodesSolution:\n",
    "    def count_good_nodes_in_tree(self, root: TreeNode):\n",
    "        def count_good_nodes_in_subtree(node, max_val_of_ancestors):\n",
    "\n",
    "            # Missing leaves don't contribute any good nodes\n",
    "            if not node:\n",
    "                return 0\n",
    "            \n",
    "            # How many good nodes do we get from the current node's children?\n",
    "            max_val_incl_current_node = max(max_val_of_ancestors, node.val)\n",
    "            good_nodes_from_left_child = count_good_nodes_in_subtree(node.left, max_val_incl_current_node)\n",
    "            good_nodes_from_right_child = count_good_nodes_in_subtree(node.right, max_val_incl_current_node)\n",
    "            good_nodes = good_nodes_from_left_child + good_nodes_from_right_child\n",
    "\n",
    "            # Is our current node also a good node?\n",
    "            if node.val >= max_val_of_ancestors:\n",
    "                good_nodes += 1\n",
    "\n",
    "            return good_nodes\n",
    "\n",
    "        return count_good_nodes_in_subtree(node=root, max_val_of_ancestors=float(\"-inf\"))\n",
    "        # We start at the root, which has no ancestors \n",
    "        # It's the only node that doesn't need a \"max_val_of_ancestors\" to have been calculated externally\n",
    "        # I.e. it's a good node by definition\n",
    "\n",
    "good_nodes_solution = GoodNodesSolution()\n",
    "good_nodes = good_nodes_solution.count_good_nodes_in_tree(root=root)\n",
    "print(good_nodes)\n",
    "    "
   ]
  },
  {
   "cell_type": "code",
   "execution_count": 40,
   "id": "df65588b",
   "metadata": {},
   "outputs": [
    {
     "name": "stdout",
     "output_type": "stream",
     "text": [
      "True\n",
      "False\n"
     ]
    }
   ],
   "source": [
    "# Given the roots of two binary trees p and q, check if they are the same tree. \n",
    "# Two binary trees are the same tree if they are structurally identical and the nodes have the same values.\n",
    "\n",
    "root1 = copy.deepcopy(root)\n",
    "root2 = copy.deepcopy(root)\n",
    "root2.right.left.val = 2 # change one of the values so the trees don't match\n",
    "\n",
    "class SameTreeSolution:\n",
    "    def are_trees_identical(self, root1, root2):\n",
    "\n",
    "        # Base cases where leaves are empty\n",
    "        if root1 is None and root2 is None:\n",
    "            return True\n",
    "        if root1 is None and root2 is not None:\n",
    "            return False\n",
    "        if root2 is None and root1 is not None:\n",
    "            return False\n",
    "        \n",
    "        # Check current node\n",
    "        values_match = root1.val == root2.val\n",
    "\n",
    "        # Check child nodes (recursive)\n",
    "        left_children_match = self.are_trees_identical(root1=root1.left, root2=root2.left)\n",
    "        right_children_match = self.are_trees_identical(root1=root1.right, root2=root2.right)\n",
    "\n",
    "        # Combine\n",
    "        is_complete_match = values_match and left_children_match and right_children_match\n",
    "\n",
    "        return is_complete_match\n",
    "    \n",
    "same_tree_solution = SameTreeSolution()\n",
    "\n",
    "are_trees_identical_1 = same_tree_solution.are_trees_identical(root1=root1, root2=root1)\n",
    "print(are_trees_identical_1)\n",
    "\n",
    "are_trees_identical_2 = same_tree_solution.are_trees_identical(root1=root1, root2=root2)\n",
    "print(are_trees_identical_2)"
   ]
  },
  {
   "cell_type": "markdown",
   "id": "b98ce172",
   "metadata": {},
   "source": [
    "## Graphs"
   ]
  },
  {
   "cell_type": "code",
   "execution_count": 1,
   "id": "08d75346",
   "metadata": {},
   "outputs": [
    {
     "name": "stdout",
     "output_type": "stream",
     "text": [
      "[[0. 0. 0. 0.]\n",
      " [0. 0. 0. 0.]\n",
      " [0. 0. 0. 0.]\n",
      " [0. 0. 0. 0.]]\n",
      "Agent position: (0, 0)\n",
      "Goal position: (3, 3)\n"
     ]
    }
   ],
   "source": [
    "import numpy as np\n",
    "\n",
    "class GridWorld:\n",
    "    def __init__(self, agent_position, goal_position):\n",
    "        self.agent_position = agent_position\n",
    "        self.goal_position = goal_position\n",
    "        self.gridworld = np.zeros((4, 4))\n",
    "    \n",
    "    def print_environment(self):\n",
    "        print(self.gridworld)\n",
    "        print(f\"Agent position: {self.agent_position}\")\n",
    "        print(f\"Goal position: {self.goal_position}\")\n",
    "\n",
    "# Create an instance of GridWorld with specified agent and goal positions\n",
    "agent_position = (0, 0)\n",
    "goal_position = (3, 3)\n",
    "gridworld_instance = GridWorld(agent_position, goal_position)\n",
    "\n",
    "# Print the gridworld environment\n",
    "gridworld_instance.print_environment()"
   ]
  }
 ],
 "metadata": {
  "kernelspec": {
   "display_name": "fd-rl",
   "language": "python",
   "name": "python3"
  },
  "language_info": {
   "codemirror_mode": {
    "name": "ipython",
    "version": 3
   },
   "file_extension": ".py",
   "mimetype": "text/x-python",
   "name": "python",
   "nbconvert_exporter": "python",
   "pygments_lexer": "ipython3",
   "version": "3.12.1"
  }
 },
 "nbformat": 4,
 "nbformat_minor": 5
}
